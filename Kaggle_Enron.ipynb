{
 "cells": [
  {
   "cell_type": "code",
   "execution_count": 1,
   "id": "7b105a99",
   "metadata": {},
   "outputs": [],
   "source": [
    "import re\n",
    "import email\n",
    "from email.parser import Parser\n",
    "\n",
    "import numpy as np\n",
    "import pandas as pd\n",
    "\n",
    "import matplotlib.pyplot as plt\n",
    "import seaborn as sns"
   ]
  },
  {
   "cell_type": "code",
   "execution_count": 2,
   "id": "f694096f",
   "metadata": {},
   "outputs": [
    {
     "data": {
      "text/html": [
       "<div>\n",
       "<style scoped>\n",
       "    .dataframe tbody tr th:only-of-type {\n",
       "        vertical-align: middle;\n",
       "    }\n",
       "\n",
       "    .dataframe tbody tr th {\n",
       "        vertical-align: top;\n",
       "    }\n",
       "\n",
       "    .dataframe thead th {\n",
       "        text-align: right;\n",
       "    }\n",
       "</style>\n",
       "<table border=\"1\" class=\"dataframe\">\n",
       "  <thead>\n",
       "    <tr style=\"text-align: right;\">\n",
       "      <th></th>\n",
       "      <th>file</th>\n",
       "      <th>message</th>\n",
       "    </tr>\n",
       "  </thead>\n",
       "  <tbody>\n",
       "    <tr>\n",
       "      <th>0</th>\n",
       "      <td>allen-p/_sent_mail/1.</td>\n",
       "      <td>Message-ID: &lt;18782981.1075855378110.JavaMail.e...</td>\n",
       "    </tr>\n",
       "  </tbody>\n",
       "</table>\n",
       "</div>"
      ],
      "text/plain": [
       "                    file                                            message\n",
       "0  allen-p/_sent_mail/1.  Message-ID: <18782981.1075855378110.JavaMail.e..."
      ]
     },
     "execution_count": 2,
     "metadata": {},
     "output_type": "execute_result"
    }
   ],
   "source": [
    "emails_df = pd.read_csv('emails.csv')\n",
    "emails_df.head(1)"
   ]
  },
  {
   "cell_type": "code",
   "execution_count": 3,
   "id": "6b200686",
   "metadata": {},
   "outputs": [
    {
     "data": {
      "text/html": [
       "<div>\n",
       "<style scoped>\n",
       "    .dataframe tbody tr th:only-of-type {\n",
       "        vertical-align: middle;\n",
       "    }\n",
       "\n",
       "    .dataframe tbody tr th {\n",
       "        vertical-align: top;\n",
       "    }\n",
       "\n",
       "    .dataframe thead th {\n",
       "        text-align: right;\n",
       "    }\n",
       "</style>\n",
       "<table border=\"1\" class=\"dataframe\">\n",
       "  <thead>\n",
       "    <tr style=\"text-align: right;\">\n",
       "      <th></th>\n",
       "      <th>file</th>\n",
       "      <th>email_body</th>\n",
       "      <th>sender_email</th>\n",
       "      <th>sender</th>\n",
       "    </tr>\n",
       "  </thead>\n",
       "  <tbody>\n",
       "    <tr>\n",
       "      <th>0</th>\n",
       "      <td>allen-p/_sent_mail/1.</td>\n",
       "      <td>\\nHere is our forecast\\n\\n</td>\n",
       "      <td>phillip.allen@enron.com</td>\n",
       "      <td>allen-p</td>\n",
       "    </tr>\n",
       "  </tbody>\n",
       "</table>\n",
       "</div>"
      ],
      "text/plain": [
       "                    file                   email_body  \\\n",
       "0  allen-p/_sent_mail/1.  \\nHere is our forecast\\n\\n    \n",
       "\n",
       "              sender_email   sender  \n",
       "0  phillip.allen@enron.com  allen-p  "
      ]
     },
     "execution_count": 3,
     "metadata": {},
     "output_type": "execute_result"
    }
   ],
   "source": [
    "def get_parsed_email_body(data, email_sender, email_body):\n",
    "    email = Parser().parsestr(data)\n",
    "    if email['from']:\n",
    "        sender = email['from']\n",
    "        sender = sender.replace(\"\\n\", \"\")\n",
    "        sender = sender.replace(\"\\t\", \"\")\n",
    "        sender = sender.replace(\" \", \"\")\n",
    "\n",
    "        res = re.search(r'X-FileName.*\\n*((?:\\n.*)*?)(?=\\n.*Forwarded|\\n.*Original|\\n\\n\\n|\\Z)', data)\n",
    "        if not res:\n",
    "            return False\n",
    "        if not res.group(1):\n",
    "            return False\n",
    "        email_body.append(res.group(1))\n",
    "        email_sender.append(sender)\n",
    "    return True\n",
    "\n",
    "def data_cleaning(emails_df):\n",
    "    filtered_rows = []\n",
    "    email_sender = []\n",
    "    email_body = []\n",
    "    for index, row in emails_df.iterrows():\n",
    "        if not get_parsed_email_body(row[\"message\"], email_sender, email_body):\n",
    "            filtered_rows.append(index)\n",
    "    emails_df.drop(\"message\", axis=1, inplace=True)\n",
    "    emails_df.drop(filtered_rows, axis=0, inplace=True)\n",
    "    emails_df[\"email_body\"] = email_body\n",
    "    emails_df[\"sender_email\"] = email_sender\n",
    "    emails_df[\"sender\"] = emails_df['file'].map(lambda x:x.split('/')[0])\n",
    "    \n",
    "\n",
    "data_cleaning(emails_df)\n",
    "emails_df.head(1)"
   ]
  },
  {
   "cell_type": "code",
   "execution_count": 4,
   "id": "d890fc99",
   "metadata": {},
   "outputs": [],
   "source": [
    "valid_dirs = ['sent_items', '_sent_mail', 'sent', '_sent']\n",
    "emails_df['valid'] = emails_df['file'].map(lambda x : True if x.split('/')[1] in valid_dirs else False)"
   ]
  },
  {
   "cell_type": "code",
   "execution_count": 5,
   "id": "def19337",
   "metadata": {},
   "outputs": [],
   "source": [
    "emails_df.drop(emails_df.index[emails_df['valid'] == False], inplace=True)"
   ]
  },
  {
   "cell_type": "code",
   "execution_count": 6,
   "id": "6adef094",
   "metadata": {},
   "outputs": [
    {
     "name": "stdout",
     "output_type": "stream",
     "text": [
      "{'_sent_mail', '_sent', 'sent_items', 'sent'}\n"
     ]
    }
   ],
   "source": [
    "sent_mail_check = set(emails_df['file'].map(lambda x:x.split('/')[1]))\n",
    "print(sent_mail_check)"
   ]
  },
  {
   "cell_type": "code",
   "execution_count": 7,
   "id": "61bf393b",
   "metadata": {},
   "outputs": [],
   "source": [
    "emails_df.to_csv('kaggle_enron_email_cleaned.csv')"
   ]
  },
  {
   "cell_type": "code",
   "execution_count": null,
   "id": "d40597d9",
   "metadata": {},
   "outputs": [],
   "source": []
  }
 ],
 "metadata": {
  "kernelspec": {
   "display_name": "Python 3 (ipykernel)",
   "language": "python",
   "name": "python3"
  },
  "language_info": {
   "codemirror_mode": {
    "name": "ipython",
    "version": 3
   },
   "file_extension": ".py",
   "mimetype": "text/x-python",
   "name": "python",
   "nbconvert_exporter": "python",
   "pygments_lexer": "ipython3",
   "version": "3.8.13"
  }
 },
 "nbformat": 4,
 "nbformat_minor": 5
}
