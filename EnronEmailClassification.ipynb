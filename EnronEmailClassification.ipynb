{
 "cells": [
  {
   "cell_type": "code",
   "execution_count": 52,
   "id": "a8cc8e01",
   "metadata": {},
   "outputs": [],
   "source": [
    "import os\n",
    "import re\n",
    "import csv\n",
    "import codecs\n",
    "import email\n",
    "from email.parser import Parser"
   ]
  },
  {
   "cell_type": "code",
   "execution_count": 53,
   "id": "f912a6e9",
   "metadata": {},
   "outputs": [],
   "source": [
    "rootdir = 'maildir'\n",
    "author_dir = [rootdir+'/'+name for name in os.listdir(rootdir) if os.path.isdir(os.path.join(rootdir, name))]\n",
    "look_up_dir = ['sent', 'sent_items']"
   ]
  },
  {
   "cell_type": "code",
   "execution_count": 74,
   "id": "cce37735",
   "metadata": {},
   "outputs": [],
   "source": [
    "def email_parser(input_file, email_sender, email_body, email_file):\n",
    "    with codecs.open(input_file, mode=\"r\",  encoding='utf-8', errors='ignore') as f:\n",
    "        data = f.read()\n",
    "\n",
    "    email = Parser().parsestr(data)\n",
    "    if email['from']:\n",
    "        sender = email['from']\n",
    "        sender = sender.replace(\"\\n\", \"\")\n",
    "        sender = sender.replace(\"\\t\", \"\")\n",
    "        sender = sender.replace(\" \", \"\")\n",
    "\n",
    "        res = re.search(r'X-FileName.*\\n*((?:\\n.*)*?)(?=\\n.*Forwarded|\\n.*Original|\\n\\n\\n|\\Z)', data)\n",
    "        if not res:\n",
    "            return\n",
    "        if not res.group(1):\n",
    "            return\n",
    "        email_body.append(res.group(1))x\n",
    "        email_sender.append(sender)\n",
    "        email_file.append(input_file)\n",
    "\n",
    "train_email_sender = []\n",
    "train_email_file = []\n",
    "test_email_sender = []\n",
    "train_email_body = []\n",
    "test_email_body = []\n",
    "test_email_file = []\n",
    "\n",
    "for directory in author_dir:\n",
    "    for look_dir in look_up_dir:\n",
    "        root_dir = directory + '/' + look_dir\n",
    "        for directory, subdirectory, files in  os.walk(root_dir):\n",
    "            train_count = int(0.7*len(files))\n",
    "            for file in files:\n",
    "                if train_count:\n",
    "                    email_parser(os.path.join(directory, file), train_email_sender, train_email_body, train_email_file)\n",
    "                    train_count-=1\n",
    "                else:\n",
    "                    email_parser(os.path.join(directory, file), test_email_sender, test_email_body, test_email_file)\n",
    "                    "
   ]
  },
  {
   "cell_type": "code",
   "execution_count": 75,
   "id": "be4a0895",
   "metadata": {},
   "outputs": [
    {
     "name": "stdout",
     "output_type": "stream",
     "text": [
      "49674\n"
     ]
    }
   ],
   "source": [
    "# header = ['email_sender']\n",
    "# with open('email_sender.csv','w', encoding='UTF8') as csv_file:\n",
    "#     writer = csv.writer(csv_file)\n",
    "#     writer.writerow(header)\n",
    "#     for i in range(len(email_body)):\n",
    "#         writer.writerow([email_sender[i]])\n",
    "print(len(train_email_sender))"
   ]
  },
  {
   "cell_type": "code",
   "execution_count": 76,
   "id": "6e28e3cb",
   "metadata": {},
   "outputs": [],
   "source": [
    "header = ['email_sender','email_body', 'email_file']\n",
    "with open('enron_email_dataset_train.csv','w', encoding='UTF8') as csv_file:\n",
    "    writer = csv.writer(csv_file)\n",
    "    writer.writerow(header)\n",
    "    for i in range(len(train_email_body)):\n",
    "        body = train_email_body[i]\n",
    "        writer.writerow([train_email_sender[i], body, train_email_file[i]])\n",
    "        \n"
   ]
  },
  {
   "cell_type": "code",
   "execution_count": 77,
   "id": "70130238",
   "metadata": {},
   "outputs": [],
   "source": [
    "header = ['email_sender','email_body', 'email_file']\n",
    "with open('enron_email_dataset_test.csv','w', encoding='UTF8') as csv_file:\n",
    "    writer = csv.writer(csv_file)\n",
    "    writer.writerow(header)\n",
    "    for i in range(len(test_email_body)):\n",
    "        body = test_email_body[i]\n",
    "        writer.writerow([test_email_sender[i], body, test_email_file[i]])"
   ]
  },
  {
   "cell_type": "code",
   "execution_count": 39,
   "id": "a09d3881",
   "metadata": {},
   "outputs": [],
   "source": [
    "s = r\"\"\"Message-ID: <20574626.1075857586271.JavaMail.evans@thyme>\n",
    "Date: Sun, 26 Nov 2000 13:01:00 -0800 (PST)\n",
    "From: john.arnold@enron.com\n",
    "To: john.lavorato@enron.com\n",
    "Subject: Re:\n",
    "Mime-Version: 1.0\n",
    "Content-Type: text/plain; charset=us-ascii\n",
    "Content-Transfer-Encoding: 7bit\n",
    "X-From: John Arnold\n",
    "X-To: John J Lavorato\n",
    "X-cc: \n",
    "X-bcc: \n",
    "X-Folder: \\John_Arnold_Dec2000\\Notes Folders\\Sent\n",
    "X-Origin: Arnold-J\n",
    "X-FileName: Jarnold.nsf\n",
    "\n",
    "who were you trying to bet on??\n",
    "yeah i know who it is\n",
    "\n",
    "\n",
    "\n",
    "John J Lavorato@ENRON\n",
    "11/26/2000 08:55 PM\n",
    "To: John Arnold/HOU/ECT@ECT\n",
    "cc:  \n",
    "Subject: Re:  \n",
    "\n",
    "That's cheap\"\"\""
   ]
  },
  {
   "cell_type": "code",
   "execution_count": 51,
   "id": "22c83d2b",
   "metadata": {},
   "outputs": [
    {
     "name": "stdout",
     "output_type": "stream",
     "text": [
      "\n",
      "Mac,\n",
      "\n",
      "This looks good.  I won't know exactly what my cash position is until mid January.  I will let you know.\n",
      "\n",
      "Thanks,\n",
      "\n",
      "Keith\n",
      "\n"
     ]
    }
   ],
   "source": [
    "data = r\"\"\"Message-ID: <987210.1075855377416.JavaMail.evans@thyme>\n",
    "Date: Wed, 19 Dec 2001 08:20:38 -0800 (PST)\n",
    "From: k..allen@enron.com\n",
    "To: mac.d.hargrove@rssmb.com\n",
    "Subject: RE: try this one for starters\n",
    "Mime-Version: 1.0\n",
    "Content-Type: text/plain; charset=us-ascii\n",
    "Content-Transfer-Encoding: 7bit\n",
    "X-From: Allen, Phillip K. </O=ENRON/OU=NA/CN=RECIPIENTS/CN=PALLEN>\n",
    "X-To: '\"Hargrove, Mac D [PVTC]\" <mac.d.hargrove@rssmb.com>@ENRON'\n",
    "X-cc: \n",
    "X-bcc: \n",
    "X-Folder: \\Phillip_Allen_Jan2002_1\\Allen, Phillip K.\\Sent Items\n",
    "X-Origin: Allen-P\n",
    "X-FileName: pallen (Non-Privileged).pst\n",
    "\n",
    "Mac,\n",
    "\n",
    "This looks good.  I won't know exactly what my cash position is until mid January.  I will let you know.\n",
    "\n",
    "Thanks,\n",
    "\n",
    "Keith\n",
    "\n",
    " -----Original Message-----\n",
    "From: \t\"Hargrove, Mac D [PVTC]\" <mac.d.hargrove@rssmb.com>@ENRON  \n",
    "Sent:\tTuesday, December 18, 2001 11:47 AM\n",
    "To:\t'pallen@enron.com'\n",
    "Subject:\tFW: try this one for starters\n",
    "\n",
    "Phillip,\n",
    "\n",
    "This is our muni traders recommendation.  Look it over and let me know what\n",
    "you think.\n",
    "\n",
    "Mac\n",
    "\n",
    "> ----------\n",
    "> From: \tMartin, Deanna L [MSD]\n",
    "> Sent: \tTuesday, December 18, 2001 11:23 AM\n",
    "> To: \tHargrove, Mac D [PVTC]\n",
    "> Subject: \ttry this one for starters\n",
    ">\n",
    ">  <<1.pdf>>\n",
    "> let me know about questions.\n",
    ">\n",
    "\n",
    "\n",
    "--------------------------------------------------------------\n",
    "Reminder:  E-mail sent through the Internet is not secure.\n",
    "Do not use e-mail to send us confidential information\n",
    "such as credit card numbers, changes of address, PIN\n",
    "numbers, passwords, or other important information.\n",
    "Do not e-mail orders to buy or sell securities, transfer\n",
    "funds, or send time sensitive instructions. We will not\n",
    "accept such orders or instructions.  This e-mail is not\n",
    "an official trade confirmation for transactions executed\n",
    "for your account.  Your e-mail message is not private in\n",
    "that it is subject to review by the Firm, its officers,\n",
    "agents and employees.\n",
    "--------------------------------------------------------------\n",
    " - 1.pdf << File: 1.pdf >> \"\"\"\n",
    "\n",
    "res = re.search(r'X-FileName.*\\n*((?:\\n.*)+?)(?=\\n.*Forwarded|\\n.*Original|\\Z)', data).group(1)\n",
    "print(res)"
   ]
  },
  {
   "cell_type": "code",
   "execution_count": null,
   "id": "98c8e1b2",
   "metadata": {},
   "outputs": [],
   "source": []
  }
 ],
 "metadata": {
  "kernelspec": {
   "display_name": "Python 3 (ipykernel)",
   "language": "python",
   "name": "python3"
  },
  "language_info": {
   "codemirror_mode": {
    "name": "ipython",
    "version": 3
   },
   "file_extension": ".py",
   "mimetype": "text/x-python",
   "name": "python",
   "nbconvert_exporter": "python",
   "pygments_lexer": "ipython3",
   "version": "3.8.13"
  }
 },
 "nbformat": 4,
 "nbformat_minor": 5
}
