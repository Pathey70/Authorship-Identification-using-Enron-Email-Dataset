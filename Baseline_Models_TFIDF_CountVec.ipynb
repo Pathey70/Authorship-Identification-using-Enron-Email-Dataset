{
 "cells": [
  {
   "cell_type": "code",
   "execution_count": 1,
   "id": "57f6b7fd",
   "metadata": {},
   "outputs": [],
   "source": [
    "from string import punctuation\n",
    "from collections import Counter\n",
    "from operator import itemgetter\n",
    "from textstat.textstat import textstatistics,legacy_round\n",
    "import re\n",
    "import string\n",
    "import numpy as np\n",
    "import pandas as pd\n",
    "import statistics\n",
    "\n",
    "import nltk\n",
    "from nltk.sentiment.vader import SentimentIntensityAnalyzer\n",
    "from nltk.tokenize import RegexpTokenizer\n",
    "from nltk.stem import WordNetLemmatizer,PorterStemmer,SnowballStemmer\n",
    "from nltk.corpus import stopwords\n",
    "import re\n",
    "\n",
    "import spacy\n",
    "\n",
    "from sklearn.naive_bayes import MultinomialNB\n",
    "from sklearn.feature_extraction.text import TfidfVectorizer\n",
    "from sklearn.linear_model import SGDClassifier\n",
    "from sklearn.ensemble import RandomForestClassifier\n",
    "from sklearn.naive_bayes import MultinomialNB\n",
    "from sklearn.svm import SVC\n",
    "from sklearn.pipeline import Pipeline\n",
    "from sklearn.feature_extraction.text import CountVectorizer\n",
    "from sklearn.feature_extraction.text import TfidfTransformer\n",
    "from sklearn.model_selection import train_test_split\n",
    "from sklearn.metrics import confusion_matrix\n",
    "from sklearn.neighbors import KNeighborsClassifier\n",
    "\n",
    "lemmatizer = WordNetLemmatizer()\n",
    "stemmer = SnowballStemmer('english')"
   ]
  },
  {
   "cell_type": "code",
   "execution_count": 2,
   "id": "d016cb72",
   "metadata": {},
   "outputs": [],
   "source": [
    "def preprocess(sentence):\n",
    "    sentence=str(sentence)\n",
    "    sentence = sentence.lower()\n",
    "    sentence=sentence.replace('{html}',\"\") \n",
    "    cleanr = re.compile('<.*?>')\n",
    "    cleantext = re.sub(cleanr, '', sentence)\n",
    "    rem_url=re.sub(r'http\\S+', '',cleantext)\n",
    "    rem_num = re.sub('[0-9]+', '', rem_url)\n",
    "    rem_new_line = \"\".join([s for s in rem_num.strip().splitlines(True) if s.strip(\"\\r\\n\").strip()])\n",
    "    tokenizer = RegexpTokenizer(r'\\w+')\n",
    "    tokens = tokenizer.tokenize(rem_new_line)  \n",
    "    filtered_words = [w for w in tokens]\n",
    "    stem_words=[stemmer.stem(w) for w in filtered_words]\n",
    "    lemma_words=[lemmatizer.lemmatize(w) for w in stem_words]\n",
    "    return \" \".join(filtered_words)\n"
   ]
  },
  {
   "cell_type": "code",
   "execution_count": 3,
   "id": "102f843f",
   "metadata": {},
   "outputs": [],
   "source": [
    "emails_df = pd.read_csv('kaggle_enron_email_cleaned.csv')\n",
    "filtered_df = emails_df.groupby('sender').filter(lambda g: g.count().gt(2500).any())\n",
    "grp_df = filtered_df.groupby('sender')\n",
    "filtered_author_list = [key for key, item in grp_df]\n",
    "filtered_author_count = [grp_df.get_group(key).count() for key, item in grp_df]"
   ]
  },
  {
   "cell_type": "code",
   "execution_count": 4,
   "id": "133a2b39",
   "metadata": {},
   "outputs": [
    {
     "data": {
      "text/html": [
       "<div>\n",
       "<style scoped>\n",
       "    .dataframe tbody tr th:only-of-type {\n",
       "        vertical-align: middle;\n",
       "    }\n",
       "\n",
       "    .dataframe tbody tr th {\n",
       "        vertical-align: top;\n",
       "    }\n",
       "\n",
       "    .dataframe thead th {\n",
       "        text-align: right;\n",
       "    }\n",
       "</style>\n",
       "<table border=\"1\" class=\"dataframe\">\n",
       "  <thead>\n",
       "    <tr style=\"text-align: right;\">\n",
       "      <th></th>\n",
       "      <th>content</th>\n",
       "      <th>author</th>\n",
       "    </tr>\n",
       "  </thead>\n",
       "  <tbody>\n",
       "    <tr>\n",
       "      <th>3340</th>\n",
       "      <td>for your viewing pleasure</td>\n",
       "      <td>0</td>\n",
       "    </tr>\n",
       "    <tr>\n",
       "      <th>3341</th>\n",
       "      <td>i think we are going to stay in town and meet ...</td>\n",
       "      <td>0</td>\n",
       "    </tr>\n",
       "    <tr>\n",
       "      <th>3342</th>\n",
       "      <td>i didn t go either today is legs and lower abs...</td>\n",
       "      <td>0</td>\n",
       "    </tr>\n",
       "    <tr>\n",
       "      <th>3343</th>\n",
       "      <td>that s good news about the location i ll have ...</td>\n",
       "      <td>0</td>\n",
       "    </tr>\n",
       "    <tr>\n",
       "      <th>3344</th>\n",
       "      <td>effective date of your current rotation curren...</td>\n",
       "      <td>0</td>\n",
       "    </tr>\n",
       "    <tr>\n",
       "      <th>3345</th>\n",
       "      <td>it only takes about minutes to get to highland...</td>\n",
       "      <td>0</td>\n",
       "    </tr>\n",
       "    <tr>\n",
       "      <th>3346</th>\n",
       "      <td>i m ready we could try to do it over president...</td>\n",
       "      <td>0</td>\n",
       "    </tr>\n",
       "    <tr>\n",
       "      <th>3347</th>\n",
       "      <td>someone i know just put in a bid on priceline ...</td>\n",
       "      <td>0</td>\n",
       "    </tr>\n",
       "    <tr>\n",
       "      <th>3348</th>\n",
       "      <td>here is some info on steamboat i haven t check...</td>\n",
       "      <td>0</td>\n",
       "    </tr>\n",
       "    <tr>\n",
       "      <th>3349</th>\n",
       "      <td>michael is a happily married man he would neve...</td>\n",
       "      <td>0</td>\n",
       "    </tr>\n",
       "  </tbody>\n",
       "</table>\n",
       "</div>"
      ],
      "text/plain": [
       "                                                content  author\n",
       "3340                          for your viewing pleasure       0\n",
       "3341  i think we are going to stay in town and meet ...       0\n",
       "3342  i didn t go either today is legs and lower abs...       0\n",
       "3343  that s good news about the location i ll have ...       0\n",
       "3344  effective date of your current rotation curren...       0\n",
       "3345  it only takes about minutes to get to highland...       0\n",
       "3346  i m ready we could try to do it over president...       0\n",
       "3347  someone i know just put in a bid on priceline ...       0\n",
       "3348  here is some info on steamboat i haven t check...       0\n",
       "3349  michael is a happily married man he would neve...       0"
      ]
     },
     "execution_count": 4,
     "metadata": {},
     "output_type": "execute_result"
    }
   ],
   "source": [
    "filtered_df['content'] = filtered_df['email_body'].map(lambda s:preprocess(s)) \n",
    "filtered_df['sender'] = filtered_df['sender'].astype('category')\n",
    "filtered_df['author'] = filtered_df['sender'].cat.codes\n",
    "filtered_df.drop('email_body', axis=1, inplace=True)\n",
    "filtered_df.drop('sender', axis=1, inplace=True)\n",
    "filtered_df.drop('file', axis=1, inplace=True)\n",
    "filtered_df.drop('valid', axis=1, inplace=True)\n",
    "filtered_df.drop('Unnamed: 0', axis=1, inplace=True)\n",
    "filtered_df.drop('sender_email', axis=1, inplace=True)\n",
    "filtered_df.head(10)"
   ]
  },
  {
   "cell_type": "code",
   "execution_count": 5,
   "id": "366ff86c",
   "metadata": {},
   "outputs": [],
   "source": [
    "filtered_df[\"content\"] = filtered_df[\"content\"].apply(lambda x: re.sub('[%s]' % re.escape(string.punctuation), '' , x))"
   ]
  },
  {
   "cell_type": "code",
   "execution_count": 6,
   "id": "ad5e9328",
   "metadata": {},
   "outputs": [],
   "source": [
    "mnb_tfidf = Pipeline([(\"tfidf_vectorizer\", \n",
    "                      TfidfVectorizer(min_df=5, ngram_range=(1,3))),\n",
    "                      ('clf', MultinomialNB())])\n",
    "rf_tfidf = Pipeline([(\"tfidf_vectorizer\", \n",
    "                      TfidfVectorizer(ngram_range=(1,3))),\n",
    "                        (\"random forest\",\n",
    "                         RandomForestClassifier(n_estimators=100))   \n",
    "])\n",
    "svc_tfidf = Pipeline([(\"tfidf_vectorizer\", \n",
    "                 TfidfVectorizer(min_df=5, ngram_range=(1,3))),\n",
    "               (\"linear svc\", \n",
    "                SVC(kernel=\"linear\", probability=True))])\n",
    "\n",
    "\n",
    "rf_cv = Pipeline([('vect', CountVectorizer()),\n",
    "                        (\"random forest\",\n",
    "                         RandomForestClassifier(n_estimators=100))])  \n",
    "mnb_cv = Pipeline([('vect', CountVectorizer()),\n",
    "                      ('clf', MultinomialNB())])\n",
    "svc_cv = Pipeline([('vect', CountVectorizer()),\n",
    "               (\"linear svc\", \n",
    "                SVC(kernel=\"linear\", probability=True))])"
   ]
  },
  {
   "cell_type": "code",
   "execution_count": 7,
   "id": "fdc95abb",
   "metadata": {},
   "outputs": [
    {
     "name": "stdout",
     "output_type": "stream",
     "text": [
      "model                       score\n",
      "------------------------  -------\n",
      "random forest classifier   0.7039\n"
     ]
    }
   ],
   "source": [
    "from sklearn.model_selection import cross_val_score\n",
    "from tabulate import tabulate\n",
    "from sklearn.model_selection import StratifiedKFold\n",
    "\n",
    "skf = StratifiedKFold(n_splits=5)\n",
    "\n",
    "models = [\n",
    "    (\"random forest classifier\", rf_tfidf),\n",
    "    (\"multinomial naive bayes\", mnb_tfidf),\n",
    "    (\"support vector classifier\", svc_tfidf),\n",
    "]\n",
    "\n",
    "scores =  [(name, cross_val_score(model, filtered_df.content, filtered_df.author, cv=skf).mean())\n",
    "                for name, model in models]\n",
    "\n",
    "\n",
    "print(tabulate(scores, floatfmt=\".4f\", headers=(\"model\", \"score\")))"
   ]
  },
  {
   "cell_type": "code",
   "execution_count": 8,
   "id": "b357c776",
   "metadata": {},
   "outputs": [
    {
     "name": "stdout",
     "output_type": "stream",
     "text": [
      "Training set score: 0.9779110989910008\n",
      "Test set score: 0.8320203611683432\n"
     ]
    }
   ],
   "source": [
    "X_train, X_test, y_train, y_test = train_test_split(filtered_df.content, filtered_df.author,\n",
    "                                                    stratify=filtered_df.author, \n",
    "                                                    test_size=0.20)\n",
    "rf_tfidf.fit(X_train, y_train)\n",
    "print('Training set score: ' + str(rf_tfidf.score(X_train,y_train)))\n",
    "print('Test set score: ' + str(rf_tfidf.score(X_test,y_test)))\n",
    "\n",
    "\n",
    "mnb_tfidf.fit(X_train, y_train)\n",
    "print('Training set score: ' + str(mnb_tfidf.score(X_train,y_train)))\n",
    "print('Test set score: ' + str(mnb_tfidf.score(X_test,y_test)))\n",
    "\n",
    "\n",
    "svc_tfidf.fit(X_train, y_train)\n",
    "print('Training set score: ' + str(svc_tfidf.score(X_train,y_train)))\n",
    "print('Test set score: ' + str(svc_tfidf.score(X_test,y_test)))\n",
    "\n",
    "\n",
    "rf_cv.fit(X_train, y_train)\n",
    "print('Training set score: ' + str(rf_cv.score(X_train,y_train)))\n",
    "print('Test set score: ' + str(rf_cv.score(X_test,y_test)))\n",
    "\n",
    "\n",
    "mnb_cv.fit(X_train, y_train)\n",
    "print('Training set score: ' + str(mnb_cv.score(X_train,y_train)))\n",
    "print('Test set score: ' + str(mnb_cv.score(X_test,y_test)))\n",
    "\n",
    "svc_cv.fit(X_train, y_train)\n",
    "print('Training set score: ' + str(svc_cv.score(X_train,y_train)))\n",
    "print('Test set score: ' + str(svc_cv.score(X_test,y_test)))\n",
    "\n"
   ]
  },
  {
   "cell_type": "code",
   "execution_count": 9,
   "id": "b0dd2fef",
   "metadata": {},
   "outputs": [
    {
     "name": "stdout",
     "output_type": "stream",
     "text": [
      "              precision    recall  f1-score   support\n",
      "\n",
      "           0       0.87      0.76      0.81       538\n",
      "           1       0.97      0.92      0.94       524\n",
      "           2       0.81      0.73      0.77       961\n",
      "           3       0.86      0.78      0.82       915\n",
      "           4       0.86      0.57      0.68       662\n",
      "           5       0.89      0.97      0.93      1185\n",
      "           6       0.71      0.64      0.67       510\n",
      "           7       0.72      0.96      0.82      1633\n",
      "           8       0.92      0.80      0.85       800\n",
      "           9       0.97      0.95      0.96       523\n",
      "\n",
      "    accuracy                           0.83      8251\n",
      "   macro avg       0.86      0.81      0.83      8251\n",
      "weighted avg       0.84      0.83      0.83      8251\n",
      "\n"
     ]
    }
   ],
   "source": [
    "from sklearn import metrics\n",
    "y_pred = rf_tfidf.predict(X_test)\n",
    "cf_matrix = confusion_matrix(y_test, y_pred)\n",
    "print(metrics.classification_report(y_test, y_pred))"
   ]
  },
  {
   "cell_type": "code",
   "execution_count": null,
   "id": "4e19514b",
   "metadata": {},
   "outputs": [],
   "source": []
  }
 ],
 "metadata": {
  "kernelspec": {
   "display_name": "Python 3 (ipykernel)",
   "language": "python",
   "name": "python3"
  },
  "language_info": {
   "codemirror_mode": {
    "name": "ipython",
    "version": 3
   },
   "file_extension": ".py",
   "mimetype": "text/x-python",
   "name": "python",
   "nbconvert_exporter": "python",
   "pygments_lexer": "ipython3",
   "version": "3.8.13"
  }
 },
 "nbformat": 4,
 "nbformat_minor": 5
}
