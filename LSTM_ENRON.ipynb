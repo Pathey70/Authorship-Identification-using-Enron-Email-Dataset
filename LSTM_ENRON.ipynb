{
  "nbformat": 4,
  "nbformat_minor": 0,
  "metadata": {
    "colab": {
      "name": "LSTM_ENRON.ipynb",
      "provenance": []
    },
    "kernelspec": {
      "name": "python3",
      "display_name": "Python 3"
    },
    "language_info": {
      "name": "python"
    }
  },
  "cells": [
    {
      "cell_type": "code",
      "execution_count": 35,
      "metadata": {
        "id": "KvzneZGw3ktP"
      },
      "outputs": [],
      "source": [
        "import numpy as np\n",
        "# import cPickle\n",
        "from collections import defaultdict\n",
        "import re\n",
        "\n",
        "import sys\n",
        "import os\n",
        "import pandas as pd\n",
        "os.environ['KERAS_BACKEND']='tensorflow'\n",
        "\n",
        "from keras.preprocessing.text import Tokenizer\n",
        "from keras.preprocessing.sequence import pad_sequences\n",
        "from keras.utils.np_utils import to_categorical\n",
        "\n",
        "from keras.layers import Embedding\n",
        "from keras.layers import Dense, Input, Flatten\n",
        "from keras.layers import Conv1D, MaxPooling1D, Embedding, concatenate, Dropout, GRU, LSTM, Bidirectional\n",
        "from keras.models import Model\n",
        "from sklearn.model_selection import train_test_split\n",
        "from sklearn.metrics import classification_report\n",
        "import pickle"
      ]
    },
    {
      "cell_type": "code",
      "source": [
        "max_sen_len = 1500\n",
        "emb_dim = 100\n",
        "val_split = 0.2\n",
        "\n",
        "emails = []\n",
        "labels = []\n",
        "\n",
        "classes = []\n",
        "class_labels = {}\n",
        "class_ind = 0"
      ],
      "metadata": {
        "id": "O8kZtZ9535D6"
      },
      "execution_count": 36,
      "outputs": []
    },
    {
      "cell_type": "code",
      "source": [
        "df = pd.read_csv('./enron_email_lstm.csv')\n",
        "emails = df['content'].tolist()\n",
        "labels = df['author'].tolist()\n",
        "\n"
      ],
      "metadata": {
        "id": "hGVU_RKC4C22"
      },
      "execution_count": 37,
      "outputs": []
    },
    {
      "cell_type": "code",
      "source": [
        "#print(type(emails), type(emails[0]), emails[0][0], emails[0])\n",
        "# print(labels)\n",
        "emails_final=[]\n",
        "for i in emails:\n",
        "  emails_final.append(str(i))\n",
        "emails=emails_final"
      ],
      "metadata": {
        "id": "ojt15zGQ4SKs"
      },
      "execution_count": 38,
      "outputs": []
    },
    {
      "cell_type": "code",
      "source": [
        "tokenizer = Tokenizer()\n",
        "tokenizer.fit_on_texts(emails)\n",
        "sequences = tokenizer.texts_to_sequences(emails)\n",
        "\n",
        "word_index = tokenizer.word_index\n",
        "\n",
        "data = pad_sequences(sequences, maxlen=max_sen_len)\n",
        "\n",
        "labels = to_categorical(np.asarray(labels))\n",
        "print(labels.shape[0], labels.shape[1])"
      ],
      "metadata": {
        "colab": {
          "base_uri": "https://localhost:8080/"
        },
        "id": "h6tejFLw4dYj",
        "outputId": "7f167f86-f2a2-4aa6-af26-25a6d006bbc2"
      },
      "execution_count": 39,
      "outputs": [
        {
          "output_type": "stream",
          "name": "stdout",
          "text": [
            "41254 10\n"
          ]
        }
      ]
    },
    {
      "cell_type": "code",
      "source": [
        "indices = np.arange(data.shape[0])\n",
        "np.random.shuffle(indices)\n",
        "data = data[indices]\n",
        "labels = labels[indices]\n",
        "nb_validation_samples = int(val_split * data.shape[0])"
      ],
      "metadata": {
        "id": "suTDUzsV4gMZ"
      },
      "execution_count": 40,
      "outputs": []
    },
    {
      "cell_type": "code",
      "source": [
        "x_train,x_test,y_train,y_test=train_test_split(data,labels,train_size=0.8,random_state=42)\n",
        "#print(x_train)"
      ],
      "metadata": {
        "id": "VEO8ECea4jGS"
      },
      "execution_count": 41,
      "outputs": []
    },
    {
      "cell_type": "code",
      "source": [
        "x_train_normal,x_train_validation,y_train_normal,y_train_validation=train_test_split(x_train,y_train,train_size=0.85,random_state=42)"
      ],
      "metadata": {
        "id": "tdfzITYt4vgu"
      },
      "execution_count": 8,
      "outputs": []
    },
    {
      "cell_type": "code",
      "source": [
        "!wget http://nlp.stanford.edu/data/glove.6B.zip\n",
        "!unzip glove.6B.zip"
      ],
      "metadata": {
        "colab": {
          "base_uri": "https://localhost:8080/"
        },
        "id": "44aljBZ94-on",
        "outputId": "1c544051-f981-4528-f51b-c57f3a8a751d"
      },
      "execution_count": 9,
      "outputs": [
        {
          "output_type": "stream",
          "name": "stdout",
          "text": [
            "--2022-04-27 16:39:14--  http://nlp.stanford.edu/data/glove.6B.zip\n",
            "Resolving nlp.stanford.edu (nlp.stanford.edu)... 171.64.67.140\n",
            "Connecting to nlp.stanford.edu (nlp.stanford.edu)|171.64.67.140|:80... connected.\n",
            "HTTP request sent, awaiting response... 302 Found\n",
            "Location: https://nlp.stanford.edu/data/glove.6B.zip [following]\n",
            "--2022-04-27 16:39:14--  https://nlp.stanford.edu/data/glove.6B.zip\n",
            "Connecting to nlp.stanford.edu (nlp.stanford.edu)|171.64.67.140|:443... connected.\n",
            "HTTP request sent, awaiting response... 301 Moved Permanently\n",
            "Location: http://downloads.cs.stanford.edu/nlp/data/glove.6B.zip [following]\n",
            "--2022-04-27 16:39:15--  http://downloads.cs.stanford.edu/nlp/data/glove.6B.zip\n",
            "Resolving downloads.cs.stanford.edu (downloads.cs.stanford.edu)... 171.64.64.22\n",
            "Connecting to downloads.cs.stanford.edu (downloads.cs.stanford.edu)|171.64.64.22|:80... connected.\n",
            "HTTP request sent, awaiting response... 200 OK\n",
            "Length: 862182613 (822M) [application/zip]\n",
            "Saving to: ‘glove.6B.zip’\n",
            "\n",
            "glove.6B.zip        100%[===================>] 822.24M  5.08MB/s    in 2m 41s  \n",
            "\n",
            "2022-04-27 16:41:55 (5.12 MB/s) - ‘glove.6B.zip’ saved [862182613/862182613]\n",
            "\n",
            "Archive:  glove.6B.zip\n",
            "  inflating: glove.6B.50d.txt        \n",
            "  inflating: glove.6B.100d.txt       \n",
            "  inflating: glove.6B.200d.txt       \n",
            "  inflating: glove.6B.300d.txt       \n"
          ]
        }
      ]
    },
    {
      "cell_type": "code",
      "source": [
        "embeddings_index = {}\n",
        "with open('glove.6B.100d.txt') as f:\n",
        "    for line in f:\n",
        "        values = line.split()\n",
        "        word = values[0]\n",
        "        coefs = np.asarray(values[1:], dtype='float32')\n",
        "        embeddings_index[word] = coefs"
      ],
      "metadata": {
        "id": "e1g26mb-5CBX"
      },
      "execution_count": 42,
      "outputs": []
    },
    {
      "cell_type": "code",
      "source": [
        "embedding_matrix = np.random.random((len(word_index) + 1, emb_dim))\n",
        "for word, i in word_index.items():\n",
        "    embedding_vector = embeddings_index.get(word)\n",
        "    if embedding_vector is not None:\n",
        "        embedding_matrix[i] = embedding_vector"
      ],
      "metadata": {
        "id": "jFsd1ABG5M3T"
      },
      "execution_count": 43,
      "outputs": []
    },
    {
      "cell_type": "code",
      "source": [
        "embedding_layer = Embedding(len(word_index) + 1,\n",
        "                            emb_dim,\n",
        "                            weights=[embedding_matrix],\n",
        "                            input_length=max_sen_len,\n",
        "                            trainable=True)"
      ],
      "metadata": {
        "id": "5SL0caiQ5NsX"
      },
      "execution_count": 44,
      "outputs": []
    },
    {
      "cell_type": "code",
      "source": [
        "sequence_input = Input(shape=(max_sen_len,), dtype='int32')\n",
        "embedded_sequences = embedding_layer(sequence_input)\n",
        "l_lstm = Bidirectional(LSTM(100))(embedded_sequences)\n",
        "dense_1 = Dense(128, activation=\"relu\")(l_lstm)\n",
        "drop_1 = Dropout(0.3)(dense_1)\n",
        "preds = Dense(10, activation='softmax')(drop_1)\n",
        "model = Model(sequence_input, preds)\n",
        "model.compile(loss='categorical_crossentropy',\n",
        "              optimizer='rmsprop',\n",
        "              metrics=['acc'])\n"
      ],
      "metadata": {
        "id": "dE74Y4pc5RcG"
      },
      "execution_count": 16,
      "outputs": []
    },
    {
      "cell_type": "code",
      "source": [
        "print(model.summary())"
      ],
      "metadata": {
        "colab": {
          "base_uri": "https://localhost:8080/"
        },
        "id": "JKrGpMNx5UVz",
        "outputId": "553304b5-394e-4031-9317-772a170e5492"
      },
      "execution_count": 17,
      "outputs": [
        {
          "output_type": "stream",
          "name": "stdout",
          "text": [
            "Model: \"model_1\"\n",
            "_________________________________________________________________\n",
            " Layer (type)                Output Shape              Param #   \n",
            "=================================================================\n",
            " input_2 (InputLayer)        [(None, 1500)]            0         \n",
            "                                                                 \n",
            " embedding (Embedding)       (None, 1500, 100)         2719200   \n",
            "                                                                 \n",
            " bidirectional_1 (Bidirectio  (None, 200)              160800    \n",
            " nal)                                                            \n",
            "                                                                 \n",
            " dense_2 (Dense)             (None, 128)               25728     \n",
            "                                                                 \n",
            " dropout_1 (Dropout)         (None, 128)               0         \n",
            "                                                                 \n",
            " dense_3 (Dense)             (None, 10)                1290      \n",
            "                                                                 \n",
            "=================================================================\n",
            "Total params: 2,907,018\n",
            "Trainable params: 2,907,018\n",
            "Non-trainable params: 0\n",
            "_________________________________________________________________\n",
            "None\n"
          ]
        }
      ]
    },
    {
      "cell_type": "code",
      "source": [
        "model.fit(x_train_normal, y_train_normal,validation_data=(x_train_validation,y_train_validation),\n",
        "          epochs=1, batch_size=128)\n",
        "filename = 'finalized_model_weights.sav'\n",
        "pickle.dump(model, open(filename, 'wb'))"
      ],
      "metadata": {
        "colab": {
          "base_uri": "https://localhost:8080/"
        },
        "id": "AD39cSDh5YMI",
        "outputId": "04259cb3-1683-43ca-e481-0606815b7bdc"
      },
      "execution_count": 54,
      "outputs": [
        {
          "output_type": "stream",
          "name": "stdout",
          "text": [
            "220/220 [==============================] - 2068s 9s/step - loss: 0.2284 - acc: 0.9245 - val_loss: 0.5717 - val_acc: 0.8467\n"
          ]
        },
        {
          "output_type": "stream",
          "name": "stderr",
          "text": [
            "WARNING:absl:Found untraced functions such as lstm_cell_19_layer_call_fn, lstm_cell_19_layer_call_and_return_conditional_losses, lstm_cell_20_layer_call_fn, lstm_cell_20_layer_call_and_return_conditional_losses while saving (showing 4 of 4). These functions will not be directly callable after loading.\n"
          ]
        },
        {
          "output_type": "stream",
          "name": "stdout",
          "text": [
            "INFO:tensorflow:Assets written to: ram://6ae0eb47-c980-44ee-9470-a6f760659999/assets\n"
          ]
        },
        {
          "output_type": "stream",
          "name": "stderr",
          "text": [
            "INFO:tensorflow:Assets written to: ram://6ae0eb47-c980-44ee-9470-a6f760659999/assets\n",
            "WARNING:absl:<keras.layers.recurrent.LSTMCell object at 0x7f7f76f09950> has the same name 'LSTMCell' as a built-in Keras object. Consider renaming <class 'keras.layers.recurrent.LSTMCell'> to avoid naming conflicts when loading with `tf.keras.models.load_model`. If renaming is not possible, pass the object in the `custom_objects` parameter of the load function.\n",
            "WARNING:absl:<keras.layers.recurrent.LSTMCell object at 0x7f7f6bc35250> has the same name 'LSTMCell' as a built-in Keras object. Consider renaming <class 'keras.layers.recurrent.LSTMCell'> to avoid naming conflicts when loading with `tf.keras.models.load_model`. If renaming is not possible, pass the object in the `custom_objects` parameter of the load function.\n"
          ]
        }
      ]
    },
    {
      "cell_type": "code",
      "source": [
        "model=pickle.load(open(filename, 'rb'))\n",
        "y_test_predicted=model.predict(x_test)\n",
        "print(y_test_predicted)"
      ],
      "metadata": {
        "colab": {
          "base_uri": "https://localhost:8080/"
        },
        "id": "MvAYmBgj6E4O",
        "outputId": "204b131b-afc4-40c9-f69e-184bbf0c68e1"
      },
      "execution_count": 56,
      "outputs": [
        {
          "output_type": "stream",
          "name": "stdout",
          "text": [
            "[[5.1158363e-08 3.3833697e-07 3.0165469e-07 ... 4.7471722e-06\n",
            "  9.9979573e-01 3.0191512e-09]\n",
            " [4.1017599e-13 3.5075064e-12 1.0000000e+00 ... 1.4675749e-12\n",
            "  2.3826259e-13 1.7636614e-12]\n",
            " [9.9999988e-01 1.2568925e-13 5.8907657e-11 ... 1.0441323e-11\n",
            "  1.1431477e-14 2.6264677e-17]\n",
            " ...\n",
            " [2.6146320e-01 1.9158579e-02 6.8521969e-02 ... 6.9851995e-02\n",
            "  1.7303329e-02 1.0340820e-02]\n",
            " [2.2819537e-10 2.2279795e-13 3.2426554e-13 ... 1.0857014e-14\n",
            "  1.3933839e-12 1.6328425e-22]\n",
            " [4.3679666e-02 5.7504950e-03 1.1121880e-01 ... 5.1771786e-02\n",
            "  1.2585295e-02 3.0225415e-02]]\n"
          ]
        }
      ]
    },
    {
      "cell_type": "code",
      "source": [
        "\n",
        "#print(y_test)\n",
        "y_test_actual=np.argmax(y_test,axis=1)\n",
        "print(y_test_actual)\n",
        "y_test_predicted1=np.argmax(y_test_predicted,axis=1)\n",
        "print(y_test_predicted1)\n",
        "print(classification_report(y_test_actual,y_test_predicted1))"
      ],
      "metadata": {
        "colab": {
          "base_uri": "https://localhost:8080/"
        },
        "id": "5S6tye4Gj5RI",
        "outputId": "2f337239-558c-49cf-d5bc-c0ab976b1130"
      },
      "execution_count": 57,
      "outputs": [
        {
          "output_type": "stream",
          "name": "stdout",
          "text": [
            "[8 2 0 ... 2 5 2]\n",
            "[8 2 0 ... 5 5 3]\n",
            "              precision    recall  f1-score   support\n",
            "\n",
            "           0       0.88      0.81      0.84       545\n",
            "           1       0.97      0.96      0.96       517\n",
            "           2       0.91      0.85      0.88       888\n",
            "           3       0.74      0.94      0.83       912\n",
            "           4       0.87      0.86      0.87       670\n",
            "           5       0.94      0.98      0.96      1213\n",
            "           6       0.90      0.77      0.83       538\n",
            "           7       0.90      0.92      0.91      1591\n",
            "           8       0.99      0.86      0.92       811\n",
            "           9       0.99      0.96      0.97       566\n",
            "\n",
            "    accuracy                           0.90      8251\n",
            "   macro avg       0.91      0.89      0.90      8251\n",
            "weighted avg       0.91      0.90      0.90      8251\n",
            "\n"
          ]
        }
      ]
    },
    {
      "cell_type": "code",
      "source": [
        "authors=['bass-e', 'beck-s', 'dasovich-j', 'germany-c', 'jones-t',\n",
        "       'kaminski-v', 'lenhart-m', 'mann-k', 'shackleton-s', 'symes-k']\n",
        "\n",
        "\n",
        "from matplotlib.pyplot import plot\n",
        "from sklearn.metrics import confusion_matrix\n",
        "cf_matrix=confusion_matrix(y_test_actual,y_test_predicted1)\n",
        "print(cf_matrix)\n",
        "import seaborn as sns\n",
        "ax=sns.heatmap(cf_matrix,annot=True,cmap='Blues',fmt='g')\n",
        "ax.set_xlabel('\\n Predicted values')\n",
        "ax.set_ylabel('\\n Actual values')\n",
        "ax.xaxis.set_ticklabels(authors,rotation=45,rotation_mode='anchor')\n",
        "ax.yaxis.set_ticklabels(authors,rotation=45,rotation_mode='anchor')\n",
        "#plot.show()"
      ],
      "metadata": {
        "colab": {
          "base_uri": "https://localhost:8080/",
          "height": 668
        },
        "id": "YcBcjyol4j2e",
        "outputId": "ca88a61e-e882-475f-86b2-838ddef6e08c"
      },
      "execution_count": 53,
      "outputs": [
        {
          "output_type": "stream",
          "name": "stdout",
          "text": [
            "[[ 452    1    7   10    8   24   37    6    0    0]\n",
            " [   0  503    0    1    0    4    1    7    1    0]\n",
            " [  13    6  755   13   27    8   19   39    3    5]\n",
            " [  22    2   15  777   28   17   29   14    1    7]\n",
            " [   5    4    8   12  595    2    9   16   13    6]\n",
            " [   2    4    4    1    4 1180    1   11    5    1]\n",
            " [  38    1    3    9   15    1  456   11    1    3]\n",
            " [  15    3   26   23   55    8   34 1420    6    1]\n",
            " [   7    0    5    2   35    4    2   32  722    2]\n",
            " [   2    1    3    0    6    1    3    1    2  547]]\n"
          ]
        },
        {
          "output_type": "execute_result",
          "data": {
            "text/plain": [
              "[Text(0, 0.5, 'bass-e'),\n",
              " Text(0, 1.5, 'beck-s'),\n",
              " Text(0, 2.5, 'dasovich-j'),\n",
              " Text(0, 3.5, 'germany-c'),\n",
              " Text(0, 4.5, 'jones-t'),\n",
              " Text(0, 5.5, 'kaminski-v'),\n",
              " Text(0, 6.5, 'lenhart-m'),\n",
              " Text(0, 7.5, 'mann-k'),\n",
              " Text(0, 8.5, 'shackleton-s'),\n",
              " Text(0, 9.5, 'symes-k')]"
            ]
          },
          "metadata": {},
          "execution_count": 53
        },
        {
          "output_type": "display_data",
          "data": {
            "text/plain": [
              "<Figure size 432x288 with 2 Axes>"
            ],
            "image/png": "[encoded data removed]"
          },
          "metadata": {
            "needs_background": "light"
          }
        }
      ]
    },
    {
      "cell_type": "code",
      "source": [
        ""
      ],
      "metadata": {
        "id": "QQ7H4Nnq50EN"
      },
      "execution_count": null,
      "outputs": []
    }
  ]
}